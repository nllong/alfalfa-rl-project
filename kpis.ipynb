{
 "cells": [
  {
   "cell_type": "markdown",
   "metadata": {
    "collapsed": true,
    "pycharm": {
     "name": "#%% md\n"
    }
   },
   "source": [
    "# Calculate KPIs\n",
    "\n",
    "This Jupyter Notebook is used to test the calculation of the KPIs which are stored in the historian object"
   ]
  },
  {
   "cell_type": "code",
   "execution_count": 57,
   "outputs": [],
   "source": [
    "import pandas as pd"
   ],
   "metadata": {
    "collapsed": false,
    "pycharm": {
     "name": "#%%\n",
     "is_executing": false
    }
   }
  },
  {
   "cell_type": "code",
   "execution_count": 58,
   "outputs": [
    {
     "name": "stdout",
     "text": [
      "               T1    Toutdoor  CoolingPower  HeatingPower    FanPower  \\\ncount  288.000000  288.000000         288.0    288.000000  288.000000   \nmean    21.848441  -13.773132           0.0   4303.766104    5.231954   \nstd      0.056931    4.002711           0.0    681.750236    0.000000   \nmin     21.342334  -19.418374           0.0      0.000000    5.231954   \n25%     21.826864  -17.775407           0.0   3915.060609    5.231954   \n50%     21.853367  -13.890476           0.0   4147.183289    5.231954   \n75%     21.861575  -11.711787           0.0   4896.780130    5.231954   \nmax     22.583200   -4.449076           0.0   7070.707071    5.231954   \n\n       PumpPower  TotalHVACPower  TotalHVACEnergy  HeatingSetpoint  \\\ncount      288.0      288.000000     2.880000e+02            288.0   \nmean         0.0     4308.998057     1.721687e+08             22.0   \nstd          0.0      681.750236     1.062038e+08              0.0   \nmin          0.0        5.231954     2.122782e+06             22.0   \n25%          0.0     3920.292562     8.016622e+07             22.0   \n50%          0.0     4152.415242     1.677507e+08             22.0   \n75%          0.0     4902.012084     2.583994e+08             22.0   \nmax          0.0     7075.939025     3.701569e+08             22.0   \n\n       CoolingSetpoint  FanControlInput  u_CoolingSetpoint  u_HeatingSetpoint  \\\ncount            288.0     2.880000e+02              288.0              288.0   \nmean              23.0     2.000000e-01               25.0               21.0   \nstd                0.0     2.780389e-17                0.0                0.0   \nmin               23.0     2.000000e-01               25.0               21.0   \n25%               23.0     2.000000e-01               25.0               21.0   \n50%               23.0     2.000000e-01               25.0               21.0   \n75%               23.0     2.000000e-01               25.0               21.0   \nmax               23.0     2.000000e-01               25.0               21.0   \n\n       u_FanOverride         PMV         PPD      Reward  \ncount   2.880000e+02  288.000000  288.000000  288.000000  \nmean    2.000000e-01   -0.100888    2.577248   -6.886246  \nstd     2.780389e-17    0.120445    3.076702    2.977343  \nmin     2.000000e-01   -0.248956    0.000000  -10.971789  \n25%     2.000000e-01   -0.243322    0.000000  -10.228103  \n50%     2.000000e-01    0.000000    0.000000   -5.271284  \n75%     2.000000e-01    0.000000    6.228734   -4.301890  \nmax     2.000000e-01    0.000000    6.286442   -0.005232  \n               T1    Toutdoor  CoolingPower  HeatingPower      FanPower  \\\ncount  121.000000  121.000000         121.0    121.000000  1.210000e+02   \nmean    21.854892  -14.581995           0.0   4104.059519  5.231954e+00   \nstd      0.008943    1.675928           0.0    252.934849  1.783743e-15   \nmin     21.834525  -17.809052           0.0   3786.715369  5.231954e+00   \n25%     21.850512  -15.458904           0.0   3915.505543  5.231954e+00   \n50%     21.857367  -15.000000           0.0   4034.072460  5.231954e+00   \n75%     21.861559  -12.800000           0.0   4227.939690  5.231954e+00   \nmax     21.866113  -12.210451           0.0   4680.115059  5.231954e+00   \n\n       PumpPower  TotalHVACPower  TotalHVACEnergy  HeatingSetpoint  \\\ncount      121.0      121.000000     1.210000e+02            121.0   \nmean         0.0     4109.291473     1.836321e+08             22.0   \nstd          0.0      252.934849     4.246439e+07              0.0   \nmin          0.0     3791.947323     1.117599e+08             22.0   \n25%          0.0     3920.737497     1.476887e+08             22.0   \n50%          0.0     4039.304414     1.825133e+08             22.0   \n75%          0.0     4233.171644     2.191285e+08             22.0   \nmax          0.0     4685.347013     2.595448e+08             22.0   \n\n       CoolingSetpoint  FanControlInput  u_CoolingSetpoint  u_HeatingSetpoint  \\\ncount            121.0            121.0              121.0              121.0   \nmean              23.0              0.2               25.0               21.0   \nstd                0.0              0.0                0.0                0.0   \nmin               23.0              0.2               25.0               21.0   \n25%               23.0              0.2               25.0               21.0   \n50%               23.0              0.2               25.0               21.0   \n75%               23.0              0.2               25.0               21.0   \nmax               23.0              0.2               25.0               21.0   \n\n       u_FanOverride         PMV         PPD      Reward  \ncount          121.0  121.000000  121.000000  121.000000  \nmean             0.2   -0.240129    6.134275  -10.243567  \nstd              0.0    0.031325    0.798825    0.788914  \nmin              0.2   -0.248956    0.000000  -10.971789  \n25%              0.2   -0.245038    6.221412  -10.454514  \n50%              0.2   -0.243596    6.231513  -10.264276  \n75%              0.2   -0.242598    6.246174  -10.132596  \nmax              0.2    0.000000    6.286442   -4.431994  \n"
     ],
     "output_type": "stream"
    }
   ],
   "source": [
    "df = pd.read_pickle('results_rl_fmu_single_zone_vav_baseline/rl_fmu_single_zone_vav_baseline.pkl')\n",
    "df_occ_hours = df.between_time('08:00', '18:00')\n",
    "print(df.describe())\n",
    "print(df_occ_hours.describe())"
   ],
   "metadata": {
    "collapsed": false,
    "pycharm": {
     "name": "#%%\n",
     "is_executing": false
    }
   }
  },
  {
   "cell_type": "code",
   "execution_count": 59,
   "outputs": [
    {
     "name": "stdout",
     "text": [
      "24.0\n10.083333333333334\n103.41595337762305\n41.435355681071854\n2.577247501203372\n6.134275044186539\n"
     ],
     "output_type": "stream"
    }
   ],
   "source": [
    "total_hours = len(df.index) / 12\n",
    "total_hours_occupied = len(df_occ_hours.index) / 12\n",
    "total_hvac_energy = df.sum(axis=0)['TotalHVACPower'] / 12 / 1000  # kwh\n",
    "total_hvac_energy_occupied = df_occ_hours.sum(axis=0)['TotalHVACPower'] / 12 / 1000  # kwh\n",
    "average_ppd = df.mean(axis=0)['PPD']\n",
    "average_ppd_occupied = df_occ_hours.mean(axis=0)['PPD']\n",
    "\n",
    "print(total_hours)\n",
    "print(total_hours_occupied)\n",
    "print(total_hvac_energy)\n",
    "print(total_hvac_energy_occupied)\n",
    "print(average_ppd)  # don't use this value\n",
    "print(average_ppd_occupied)"
   ],
   "metadata": {
    "collapsed": false,
    "pycharm": {
     "name": "#%%\n",
     "is_executing": false
    }
   }
  },
  {
   "cell_type": "code",
   "execution_count": null,
   "outputs": [],
   "source": [
    "\n"
   ],
   "metadata": {
    "collapsed": false,
    "pycharm": {
     "name": "#%%\n"
    }
   }
  }
 ],
 "metadata": {
  "kernelspec": {
   "display_name": "Python 3",
   "language": "python",
   "name": "python3"
  },
  "language_info": {
   "codemirror_mode": {
    "name": "ipython",
    "version": 2
   },
   "file_extension": ".py",
   "mimetype": "text/x-python",
   "name": "python",
   "nbconvert_exporter": "python",
   "pygments_lexer": "ipython2",
   "version": "2.7.6"
  }
 },
 "nbformat": 4,
 "nbformat_minor": 0
}