{
 "cells": [
  {
   "cell_type": "markdown",
   "metadata": {
    "collapsed": true,
    "pycharm": {
     "name": "#%% md\n"
    }
   },
   "source": [
    "# Calculate KPIs\n",
    "\n",
    "This Jupyter Notebook is used to test the calculation of the KPIs which are stored in the historian object"
   ]
  },
  {
   "cell_type": "code",
   "execution_count": 30,
   "outputs": [],
   "source": [
    "from lib.historian import Historian\n",
    "import pandas as pd\n",
    "import datetime\n",
    "\n"
   ],
   "metadata": {
    "collapsed": false,
    "pycharm": {
     "name": "#%%\n",
     "is_executing": false
    }
   }
  },
  {
   "cell_type": "code",
   "execution_count": 51,
   "outputs": [
    {
     "name": "stdout",
     "text": [
      "                              timestamp         T1   Toutdoor  CoolingPower  \\\n2019-01-02 08:00:00 2019-01-02 08:00:00  21.843482 -12.210451           0.0   \n2019-01-02 08:05:00 2019-01-02 08:05:00  21.847897 -12.247421           0.0   \n2019-01-02 08:10:00 2019-01-02 08:10:00  21.851390 -12.297309           0.0   \n2019-01-02 08:15:00 2019-01-02 08:15:00  21.853440 -12.356894           0.0   \n2019-01-02 08:20:00 2019-01-02 08:20:00  21.854590 -12.422956           0.0   \n...                                 ...        ...        ...           ...   \n2019-01-02 17:40:00 2019-01-02 17:40:00  21.835465 -17.695600           0.0   \n2019-01-02 17:45:00 2019-01-02 17:45:00  21.835131 -17.728271           0.0   \n2019-01-02 17:50:00 2019-01-02 17:50:00  21.834818 -17.757748           0.0   \n2019-01-02 17:55:00 2019-01-02 17:55:00  21.834525 -17.784725           0.0   \n2019-01-02 18:00:00 2019-01-02 18:00:00  21.835737 -17.809052           0.0   \n\n                     HeatingPower  FanPower  PumpPower  TotalHVACPower  \\\n2019-01-02 08:00:00   4426.762131  5.231954        0.0     4431.994085   \n2019-01-02 08:05:00   4301.894704  5.231954        0.0     4307.126657   \n2019-01-02 08:10:00   4203.108022  5.231954        0.0     4208.339975   \n2019-01-02 08:15:00   4145.141930  5.231954        0.0     4150.373884   \n2019-01-02 08:20:00   4112.604167  5.231954        0.0     4117.836121   \n...                           ...       ...        ...             ...   \n2019-01-02 17:40:00   4653.509624  5.231954        0.0     4658.741578   \n2019-01-02 17:45:00   4662.971008  5.231954        0.0     4668.202962   \n2019-01-02 17:50:00   4671.815622  5.231954        0.0     4677.047576   \n2019-01-02 17:55:00   4680.115059  5.231954        0.0     4685.347013   \n2019-01-02 18:00:00   4645.825398  5.231954        0.0     4651.057352   \n\n                     TotalHVACEnergy  HeatingSetpoint  CoolingSetpoint  \\\n2019-01-02 08:00:00     1.117599e+08             22.0             23.0   \n2019-01-02 08:05:00     1.129868e+08             22.0             23.0   \n2019-01-02 08:10:00     1.142218e+08             22.0             23.0   \n2019-01-02 08:15:00     1.154571e+08             22.0             23.0   \n2019-01-02 08:20:00     1.166904e+08             22.0             23.0   \n...                              ...              ...              ...   \n2019-01-02 17:40:00     2.538121e+08             22.0             23.0   \n2019-01-02 17:45:00     2.552112e+08             22.0             23.0   \n2019-01-02 17:50:00     2.566131e+08             22.0             23.0   \n2019-01-02 17:55:00     2.580176e+08             22.0             23.0   \n2019-01-02 18:00:00     2.595448e+08             22.0             23.0   \n\n                     FanControlInput  u_CoolingSetpoint  u_HeatingSetpoint  \\\n2019-01-02 08:00:00              0.2               25.0               21.0   \n2019-01-02 08:05:00              0.2               25.0               21.0   \n2019-01-02 08:10:00              0.2               25.0               21.0   \n2019-01-02 08:15:00              0.2               25.0               21.0   \n2019-01-02 08:20:00              0.2               25.0               21.0   \n...                              ...                ...                ...   \n2019-01-02 17:40:00              0.2               25.0               21.0   \n2019-01-02 17:45:00              0.2               25.0               21.0   \n2019-01-02 17:50:00              0.2               25.0               21.0   \n2019-01-02 17:55:00              0.2               25.0               21.0   \n2019-01-02 18:00:00              0.2               25.0               21.0   \n\n                     u_FanOverride       PMV       PPD     Reward  \n2019-01-02 08:00:00            0.2  0.000000  0.000000  -4.431994  \n2019-01-02 08:05:00            0.2 -0.245850  6.254460 -10.561587  \n2019-01-02 08:10:00            0.2 -0.245038  6.246174 -10.454514  \n2019-01-02 08:15:00            0.2 -0.244562  6.241324 -10.391698  \n2019-01-02 08:20:00            0.2 -0.244295  6.238606 -10.356442  \n...                            ...       ...       ...        ...  \n2019-01-02 17:40:00            0.2 -0.248737  6.284179 -10.942920  \n2019-01-02 17:45:00            0.2 -0.248815  6.284983 -10.953186  \n2019-01-02 17:50:00            0.2 -0.248888  6.285736 -10.962783  \n2019-01-02 17:55:00            0.2 -0.248956  6.286442 -10.971789  \n2019-01-02 18:00:00            0.2  0.000000  0.000000  -4.651057  \n\n[121 rows x 18 columns]\n"
     ],
     "output_type": "stream"
    }
   ],
   "source": [
    "df = pd.read_pickle('results-rl-fmu-single_zone_vav_baseline/rl-fmu-single_zone_vav_baseline.pkl')\n",
    "df_occ_hours = df.between_time('08:00', '18:00')\n",
    "print(df.describe())\n",
    "print(df_occ_hours.describe())"
   ],
   "metadata": {
    "collapsed": false,
    "pycharm": {
     "name": "#%%\n",
     "is_executing": false
    }
   }
  },
  {
   "cell_type": "code",
   "execution_count": 55,
   "outputs": [
    {
     "name": "stdout",
     "text": [
      "24.0\n10.083333333333334\n103.41595337762305\n41.435355681071854\n2.577247501203372\n6.134275044186539\n"
     ],
     "output_type": "stream"
    }
   ],
   "source": [
    "total_hours = len(df.index) / 12\n",
    "total_hours_occupied = len(df_occ_hours.index) / 12\n",
    "total_hvac_energy = df.sum(axis=0)['TotalHVACPower'] / 12 / 1000  # kwh\n",
    "total_hvac_energy_occupied = df_occ_hours.sum(axis=0)['TotalHVACPower'] / 12 / 1000  # kwh\n",
    "average_ppd = df.mean(axis=0)['PPD']\n",
    "average_ppd_occupied = df_occ_hours.mean(axis=0)['PPD']\n",
    "\n",
    "print(total_hours)\n",
    "print(total_hours_occupied)\n",
    "print(total_hvac_energy)\n",
    "print(total_hvac_energy_occupied)\n",
    "print(average_ppd)  # don't use this value\n",
    "print(average_ppd_occupied)"
   ],
   "metadata": {
    "collapsed": false,
    "pycharm": {
     "name": "#%%\n",
     "is_executing": false
    }
   }
  },
  {
   "cell_type": "code",
   "execution_count": null,
   "outputs": [],
   "source": [
    "\n"
   ],
   "metadata": {
    "collapsed": false,
    "pycharm": {
     "name": "#%%\n"
    }
   }
  }
 ],
 "metadata": {
  "kernelspec": {
   "display_name": "Python 3",
   "language": "python",
   "name": "python3"
  },
  "language_info": {
   "codemirror_mode": {
    "name": "ipython",
    "version": 2
   },
   "file_extension": ".py",
   "mimetype": "text/x-python",
   "name": "python",
   "nbconvert_exporter": "python",
   "pygments_lexer": "ipython2",
   "version": "2.7.6"
  },
  "pycharm": {
   "stem_cell": {
    "cell_type": "raw",
    "source": [],
    "metadata": {
     "collapsed": false
    }
   }
  }
 },
 "nbformat": 4,
 "nbformat_minor": 0
}
